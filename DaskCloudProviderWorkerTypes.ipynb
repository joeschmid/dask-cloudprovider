{
 "cells": [
  {
   "cell_type": "code",
   "execution_count": 1,
   "metadata": {},
   "outputs": [],
   "source": [
    "from dask_cloudprovider import FargateCluster, ECSCluster"
   ]
  },
  {
   "cell_type": "code",
   "execution_count": 2,
   "metadata": {},
   "outputs": [
    {
     "name": "stderr",
     "output_type": "stream",
     "text": [
      "DEBUG - SHOWN\n"
     ]
    }
   ],
   "source": [
    "import logging\n",
    "\n",
    "logging.root.setLevel(logging.INFO)\n",
    "logging.debug(\"NOT SHOWN\")\n",
    "\n",
    "logging.root.setLevel(logging.DEBUG)\n",
    "logger = logging.getLogger('botocore')\n",
    "logger.setLevel(logging.INFO)\n",
    "logging.debug(\"SHOWN\")\n",
    "logger.debug(\"NOT SHOWN\")"
   ]
  },
  {
   "cell_type": "code",
   "execution_count": 5,
   "metadata": {},
   "outputs": [
    {
     "name": "stderr",
     "output_type": "stream",
     "text": [
      "INFO - Found self._additional_worker_types: ['highmem', 'gpu']\n",
      "INFO - Found kwargs: {'highmem_n_workers': 0, 'highmem_worker_cpu': 8096, 'highmem_worker_mem': 49152, 'highmem_worker_extra_args': ['--resources', 'HIGHMEM=49152'], 'highmem_capacity_provider_strategy': [{'capacityProvider': 'DS_ASG_TEST', 'weight': 1, 'base': 1}], 'gpu_n_workers': 0, 'gpu_worker_cpu': 1024, 'gpu_worker_mem': 2048, 'gpu_worker_gpu': 1, 'gpu_worker_extra_args': ['--resources', 'GPU=1'], 'gpu_capacity_provider_strategy': [{'capacityProvider': 'DS_ASG_GPU_SPOT', 'weight': 1, 'base': 1}]}\n",
      "INFO - Found self._additional_worker_types: ['highmem', 'gpu']\n",
      "INFO - Found kwargs: {'gpu_n_workers': 0, 'gpu_worker_cpu': 1024, 'gpu_worker_mem': 2048, 'gpu_worker_gpu': 1, 'gpu_worker_extra_args': ['--resources', 'GPU=1'], 'gpu_capacity_provider_strategy': [{'capacityProvider': 'DS_ASG_GPU_SPOT', 'weight': 1, 'base': 1}]}\n",
      "DEBUG - Using selector: KqueueSelector\n",
      "DEBUG - Using selector: KqueueSelector\n",
      "DEBUG - Looking for credentials via: env\n",
      "INFO - Found credentials in environment variables.\n",
      "INFO - _create_worker_task_definition_arn: resource_requirements = [{'type': 'GPU', 'value': '1'}]\n",
      "INFO - self.worker_spec.keys(): dict_keys([])\n",
      "INFO - type_n_workers: 0\n",
      "INFO - type_n_workers: 0\n",
      "INFO - self.worker_spec.keys(): dict_keys([])\n",
      "INFO - Task constructor: self._capacity_provider_strategy: DEFAULT\n",
      "DEBUG - distributed.scheduler - INFO -   Scheduler at:   tcp://172.33.33.95:8786\n"
     ]
    },
    {
     "name": "stdout",
     "output_type": "stream",
     "text": [
      "CPU times: user 356 ms, sys: 71.5 ms, total: 427 ms\n",
      "Wall time: 18.8 s\n"
     ]
    }
   ],
   "source": [
    "%%time\n",
    "\n",
    "from dask_cloudprovider import FargateCluster, ECSCluster\n",
    "\n",
    "\n",
    "cluster_arn=\"arn:aws:ecs:us-west-2:638452598920:cluster/ds-fargate-test\"\n",
    "\n",
    "# sec = Security(\n",
    "#     tls_ca_file=\"/opt/srm-data-science/tls/srm-wildcard.pem\",\n",
    "#     tls_client_cert=\"/opt/srm-data-science/tls/srm-wildcard.pem\",\n",
    "#     tls_client_key=\"/opt/srm-data-science/tls/srm-wildcard.key\",\n",
    "#     require_encryption=True,\n",
    "# )\n",
    "\n",
    "#AWS_DEFAULT_REGION=us-west-2\n",
    "\n",
    "cluster = ECSCluster(image=#\"638452598920.dkr.ecr.us-west-2.amazonaws.com/srm/prefect-base:0.12.5.1\",\n",
    "                         \"638452598920.dkr.ecr.us-west-2.amazonaws.com/srm/dask-gpu:2.21.12.5.4\",\n",
    "                    cluster_arn=cluster_arn,\n",
    "                    platform_version=\"1.4.0\",\n",
    "                    task_role_arn=\"arn:aws:iam::638452598920:role/dask-k8s-cluster-role\",\n",
    "                    execution_role_arn=\"arn:aws:iam::638452598920:role/ecsTaskExecutionRole\",\n",
    "                    cloudwatch_logs_group=\"ds-prefect-fargate\",\n",
    "                    cloudwatch_logs_stream_prefix=\"ds-dask-cloud-provider\",\n",
    "                    task_family_name_prefix=\"joe\",\n",
    "                    n_workers=0,\n",
    "                    scheduler_cpu=256,\n",
    "                    scheduler_mem=512,\n",
    "                    scheduler_capacity_provider_strategy=\"DEFAULT\",\n",
    "#                      [{\n",
    "#                             \"capacityProvider\": \"FARGATE\",\n",
    "#                             \"weight\": 1,\n",
    "#                             \"base\": 1\n",
    "#                         },\n",
    "#                     ],\n",
    "                    worker_cpu=1024,\n",
    "                    worker_mem=2048,\n",
    "                    worker_gpu=1,\n",
    "                    worker_capacity_provider_strategy=[{\n",
    "                            \"capacityProvider\": \"DS_ASG_GPU_SPOT\",\n",
    "                            \"weight\": 1,\n",
    "                            \"base\": 1\n",
    "                        },\n",
    "                    ],\n",
    "#                      \"DEFAULT\",\n",
    "#                      [{\n",
    "#                             \"capacityProvider\": \"FARGATE_SPOT\",  # \"DS_ASG_TEST\",\n",
    "#                             \"weight\": 1,\n",
    "#                             \"base\": 1\n",
    "#                         },\n",
    "#                     ],\n",
    "                    additional_worker_types=[\"highmem\", \"gpu\"],\n",
    "                    highmem_n_workers=0,\n",
    "                    highmem_worker_cpu=8096,\n",
    "                    highmem_worker_mem=49152,    \n",
    "                    highmem_worker_extra_args=[\"--resources\", \"HIGHMEM=49152\"],\n",
    "                    highmem_capacity_provider_strategy=[{\n",
    "                            \"capacityProvider\": \"DS_ASG_TEST\",\n",
    "                            \"weight\": 1,\n",
    "                            \"base\": 1\n",
    "                        },\n",
    "                    ],\n",
    "                    gpu_n_workers=1,\n",
    "                    gpu_worker_cpu=1024,\n",
    "                    gpu_worker_mem=2048,    \n",
    "                    gpu_worker_gpu=1,    \n",
    "                    gpu_worker_extra_args=[\"--resources\", \"GPU=1\"],\n",
    "                    gpu_capacity_provider_strategy=[{\n",
    "                            \"capacityProvider\": \"DS_ASG_GPU_SPOT\",\n",
    "                            \"weight\": 1,\n",
    "                            \"base\": 1\n",
    "                        },\n",
    "                    ],\n",
    "                    environment={\"AWS_DEFAULT_REGION\": \"us-west-2\"},\n",
    "                    scheduler_timeout=\"1 hour\",\n",
    "                    vpc=\"vpc-03a7956705f0062f0\",\n",
    "                    subnets=[\"subnet-059395243ef79ff9a\"],  # \"subnet-0e5cb247134fc4680\"],\n",
    "                    fargate_use_private_ip=True,\n",
    "                    security_groups=['sg-0805b06a34fe57ccc', 'sg-01cca67f9b07c43d9'],\n",
    "                    skip_cleanup=True,\n",
    "                    mount_points=[\n",
    "                        {\n",
    "                            \"containerPath\": \"/home/jovyan\",\n",
    "                            \"sourceVolume\": \"ds-efs\"\n",
    "                        }\n",
    "                    ],\n",
    "                    volumes=[\n",
    "                        {\n",
    "                            \"name\": \"ds-efs\",\n",
    "                            \"efsVolumeConfiguration\": {\n",
    "                                \"fileSystemId\": \"fs-42fa3047\"\n",
    "                            }\n",
    "                        }\n",
    "                    ],\n",
    "                         \n",
    "#                    security=sec,\n",
    "#                    scheduler_extra_args=[\"--tls-cert\", \n",
    "#                                          \"/opt/srm-data-science/tls/srm-wildcard.pem\",\n",
    "#                                          \"--tls-key\",\n",
    "#                                          \"/opt/srm-data-science/tls/srm-wildcard.key\",\n",
    "#                                          \"--tls-ca-file\",\n",
    "#                                          \"/opt/srm-data-science/tls/srm-wildcard.pem\"],\n",
    "#                    worker_extra_args=[\"--tls-cert\", \n",
    "#                                       \"/opt/srm-data-science/tls/srm-wildcard.pem\",\n",
    "#                                       \"--tls-key\",\n",
    "#                                       \"/opt/srm-data-science/tls/srm-wildcard.key\",\n",
    "#                                       \"--tls-ca-file\",\n",
    "#                                       \"/opt/srm-data-science/tls/srm-wildcard.pem\"]\n",
    "                    )\n",
    "\n"
   ]
  },
  {
   "cell_type": "code",
   "execution_count": 6,
   "metadata": {},
   "outputs": [
    {
     "data": {
      "application/vnd.jupyter.widget-view+json": {
       "model_id": "cb94ae18aeb94a3c957ecc2e759247ee",
       "version_major": 2,
       "version_minor": 0
      },
      "text/plain": [
       "VBox(children=(HTML(value='<h2>ECSCluster</h2>'), HBox(children=(HTML(value='\\n<div>\\n  <style scoped>\\n    .d…"
      ]
     },
     "metadata": {},
     "output_type": "display_data"
    },
    {
     "name": "stderr",
     "output_type": "stream",
     "text": [
      "INFO - Task constructor: self._capacity_provider_strategy: [{'capacityProvider': 'DS_ASG_GPU_SPOT', 'weight': 1, 'base': 1}]\n",
      "DEBUG - distributed.worker - INFO -       Start worker at:  tcp://172.33.46.113:35529\n"
     ]
    }
   ],
   "source": [
    "cluster"
   ]
  },
  {
   "cell_type": "code",
   "execution_count": 5,
   "metadata": {},
   "outputs": [
    {
     "ename": "NameError",
     "evalue": "name 'cluster' is not defined",
     "output_type": "error",
     "traceback": [
      "\u001b[0;31m---------------------------------------------------------------------------\u001b[0m",
      "\u001b[0;31mNameError\u001b[0m                                 Traceback (most recent call last)",
      "\u001b[0;32m<ipython-input-5-27e920aabb2d>\u001b[0m in \u001b[0;36m<module>\u001b[0;34m\u001b[0m\n\u001b[1;32m      1\u001b[0m \u001b[0;32mfrom\u001b[0m \u001b[0mdistributed\u001b[0m \u001b[0;32mimport\u001b[0m \u001b[0mSpecCluster\u001b[0m\u001b[0;34m\u001b[0m\u001b[0;34m\u001b[0m\u001b[0m\n\u001b[0;32m----> 2\u001b[0;31m \u001b[0misinstance\u001b[0m\u001b[0;34m(\u001b[0m\u001b[0mcluster\u001b[0m\u001b[0;34m,\u001b[0m \u001b[0mSpecCluster\u001b[0m\u001b[0;34m)\u001b[0m\u001b[0;34m\u001b[0m\u001b[0;34m\u001b[0m\u001b[0m\n\u001b[0m",
      "\u001b[0;31mNameError\u001b[0m: name 'cluster' is not defined"
     ]
    }
   ],
   "source": [
    "from distributed import SpecCluster\n",
    "isinstance(cluster, SpecCluster)"
   ]
  },
  {
   "cell_type": "code",
   "execution_count": 6,
   "metadata": {},
   "outputs": [],
   "source": [
    "cluster.scale(0)"
   ]
  },
  {
   "cell_type": "code",
   "execution_count": 4,
   "metadata": {},
   "outputs": [
    {
     "name": "stdout",
     "output_type": "stream",
     "text": [
      "CPU times: user 75.5 ms, sys: 8.89 ms, total: 84.4 ms\n",
      "Wall time: 4.78 s\n"
     ]
    }
   ],
   "source": [
    "%%time\n",
    "cluster.close()"
   ]
  },
  {
   "cell_type": "code",
   "execution_count": 6,
   "metadata": {},
   "outputs": [],
   "source": [
    "del cluster"
   ]
  },
  {
   "cell_type": "code",
   "execution_count": 10,
   "metadata": {},
   "outputs": [
    {
     "name": "stderr",
     "output_type": "stream",
     "text": [
      "DEBUG - Using selector: KqueueSelector\n",
      "DEBUG - Using selector: KqueueSelector\n",
      "/Users/joeschmid/.venv/dask-cloudprovider/lib/python3.7/site-packages/distributed/client.py:1130: VersionMismatchWarning: Mismatched versions found\n",
      "\n",
      "+-------------+---------------+---------------+---------------+\n",
      "| Package     | client        | scheduler     | workers       |\n",
      "+-------------+---------------+---------------+---------------+\n",
      "| cloudpickle | 1.3.0         | 1.5.0         | 1.5.0         |\n",
      "| dask        | 2.19.0        | 2.21.0        | 2.21.0        |\n",
      "| distributed | 2.19.0        | 2.21.0        | 2.21.0        |\n",
      "| numpy       | 1.18.3        | 1.19.1        | 1.19.1        |\n",
      "| python      | 3.7.7.final.0 | 3.8.5.final.0 | 3.8.5.final.0 |\n",
      "+-------------+---------------+---------------+---------------+\n",
      "  warnings.warn(version_module.VersionMismatchWarning(msg[0][\"warning\"]))\n"
     ]
    },
    {
     "data": {
      "text/html": [
       "<table style=\"border: 2px solid white;\">\n",
       "<tr>\n",
       "<td style=\"vertical-align: top; border: 0px solid white\">\n",
       "<h3 style=\"text-align: left;\">Client</h3>\n",
       "<ul style=\"text-align: left; list-style: none; margin: 0; padding: 0;\">\n",
       "  <li><b>Scheduler: </b>tcp://172.33.44.40:8786</li>\n",
       "  <li><b>Dashboard: </b><a href='http://172.33.44.40:8787/status' target='_blank'>http://172.33.44.40:8787/status</a></li>\n",
       "</ul>\n",
       "</td>\n",
       "<td style=\"vertical-align: top; border: 0px solid white\">\n",
       "<h3 style=\"text-align: left;\">Cluster</h3>\n",
       "<ul style=\"text-align: left; list-style:none; margin: 0; padding: 0;\">\n",
       "  <li><b>Workers: </b>3</li>\n",
       "  <li><b>Cores: </b>3</li>\n",
       "  <li><b>Memory: </b>0 B</li>\n",
       "</ul>\n",
       "</td>\n",
       "</tr>\n",
       "</table>"
      ],
      "text/plain": [
       "<Client: 'tcp://172.33.44.40:8786' processes=3 threads=3>"
      ]
     },
     "execution_count": 10,
     "metadata": {},
     "output_type": "execute_result"
    }
   ],
   "source": [
    "from distributed import Client\n",
    "\n",
    "c = Client(cluster.scheduler.address) # , security=sec)\n",
    "c"
   ]
  },
  {
   "cell_type": "code",
   "execution_count": 11,
   "metadata": {},
   "outputs": [],
   "source": [
    "cluster.close()"
   ]
  },
  {
   "cell_type": "code",
   "execution_count": 12,
   "metadata": {},
   "outputs": [],
   "source": [
    "del cluster"
   ]
  },
  {
   "cell_type": "code",
   "execution_count": 18,
   "metadata": {},
   "outputs": [
    {
     "data": {
      "text/plain": [
       "{'tcp://172.33.27.122:41129': 'This is a test of EFS on June 28, 2020.\\n'}"
      ]
     },
     "execution_count": 18,
     "metadata": {},
     "output_type": "execute_result"
    }
   ],
   "source": [
    "import os\n",
    "def onworker():\n",
    "    return os.popen('cat /home/jovyan/test.txt').read() # curl 169.254.170.2$AWS_CONTAINER_CREDENTIALS_RELATIVE_URI\n",
    "c.run(onworker)"
   ]
  },
  {
   "cell_type": "code",
   "execution_count": 19,
   "metadata": {},
   "outputs": [
    {
     "name": "stderr",
     "output_type": "stream",
     "text": [
      "distributed.client - ERROR - Failed to reconnect to scheduler after 10.00 seconds, closing client\n",
      "ERROR:asyncio:_GatheringFuture exception was never retrieved\n",
      "future: <_GatheringFuture finished exception=CancelledError()>\n",
      "concurrent.futures._base.CancelledError\n"
     ]
    }
   ],
   "source": [
    "cluster.close()"
   ]
  },
  {
   "cell_type": "code",
   "execution_count": null,
   "metadata": {},
   "outputs": [],
   "source": [
    "%%time\n",
    "\n",
    "from dask_cloudprovider import FargateCluster, ECSCluster\n",
    "\n",
    "\n",
    "cluster_arn=\"arn:aws:ecs:us-west-2:638452598920:cluster/ds-fargate-test\"\n",
    "\n",
    "# FARGATE scheduler, FARGATE_SPOT workers\n",
    "cluster = FargateCluster(image=\"638452598920.dkr.ecr.us-west-2.amazonaws.com/srm/prefect-base:0.12.5.1\",\n",
    "#                          \"638452598920.dkr.ecr.us-west-2.amazonaws.com/srm/dask:2.21.12.5.0\",\n",
    "                    cluster_arn=cluster_arn,\n",
    "                    platform_version=\"1.4.0\",\n",
    "                    task_role_arn=\"arn:aws:iam::638452598920:role/dask-k8s-cluster-role\",\n",
    "                    execution_role_arn=\"arn:aws:iam::638452598920:role/ecsTaskExecutionRole\",\n",
    "                    cloudwatch_logs_group=\"ds-prefect-fargate\",\n",
    "                    cloudwatch_logs_stream_prefix=\"ds-dask-cloud-provider\",\n",
    "                    n_workers=1,\n",
    "                    scheduler_cpu=256,\n",
    "                    scheduler_mem=512,\n",
    "                    scheduler_capacity_provider_strategy=[{\n",
    "                            \"capacityProvider\": \"FARGATE\",\n",
    "                            \"weight\": 1,\n",
    "                            \"base\": 1\n",
    "                        },\n",
    "                    ],\n",
    "                    worker_cpu=1024,\n",
    "                    worker_mem=2048,\n",
    "                    worker_capacity_provider_strategy=[{\n",
    "                            \"capacityProvider\": \"FARGATE_SPOT\",  # \"DS_ASG_TEST\",\n",
    "                            \"weight\": 1,\n",
    "                            \"base\": 1\n",
    "                        },\n",
    "                    ],\n",
    "                    additional_worker_types=[\"highmem\"],\n",
    "#                     highmem_n_workers=1,\n",
    "#                     highmem_worker_cpu=8096,\n",
    "#                     highmem_worker_mem=49152,    \n",
    "#                     highmem_worker_extra_args=[\"--resources\", \"HIGHMEM=2048\"],\n",
    "#                     highmem_capacity_provider_strategy=\"DEFAULT\",\n",
    "                    environment={\"AWS_DEFAULT_REGION\": \"us-west-2\"},\n",
    "                    scheduler_timeout=\"1 hour\",\n",
    "                    vpc=\"vpc-03a7956705f0062f0\",\n",
    "                    subnets=[\"subnet-059395243ef79ff9a\"],  # \"subnet-0e5cb247134fc4680\"],\n",
    "                    fargate_use_private_ip=True,\n",
    "                    security_groups=['sg-0805b06a34fe57ccc', 'sg-01cca67f9b07c43d9'],\n",
    "                    skip_cleanup=True,\n",
    "                    )"
   ]
  }
 ],
 "metadata": {
  "kernelspec": {
   "display_name": "Python 3",
   "language": "python",
   "name": "python3"
  },
  "language_info": {
   "codemirror_mode": {
    "name": "ipython",
    "version": 3
   },
   "file_extension": ".py",
   "mimetype": "text/x-python",
   "name": "python",
   "nbconvert_exporter": "python",
   "pygments_lexer": "ipython3",
   "version": "3.7.7"
  }
 },
 "nbformat": 4,
 "nbformat_minor": 4
}
